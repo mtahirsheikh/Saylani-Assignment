{
 "cells": [
  {
   "cell_type": "code",
   "execution_count": 27,
   "metadata": {},
   "outputs": [
    {
     "name": "stdout",
     "output_type": "stream",
     "text": [
      "Enter the Subject Marks Obtained out of 100.\n",
      "Enter Marks of English:\n",
      "78.8\n",
      "\n",
      "Enter Marks of Persian:\n",
      "99\n",
      "\n",
      "Enter Marks of Italian:\n",
      "99\n",
      "\n",
      "Enter Marks of German:\n",
      "09\n",
      "\n",
      "Enter Marks of Spanish:\n",
      "90\n",
      "\n",
      "\n",
      " \t\t   Mark Sheet \n",
      "\n",
      "\n",
      "Subject \t Total Marks \t Obtained Marks\n",
      "\n",
      "English \t 100 \t\t 78.8\n",
      "Persian \t 100 \t\t 99\n",
      "Italian \t 100 \t\t 99\n",
      "German  \t 100 \t\t 9\n",
      "Spanish \t 100 \t\t 90 \n",
      "\n",
      "Total   \t 500 \t\t 375.8 \n",
      "\n",
      "\t\t Percentage\t 75.16000000000001\n",
      "\t\t Grade\t\t A\n"
     ]
    }
   ],
   "source": [
    "\n",
    "print('Enter the Subject Marks Obtained out of 100.')\n",
    "\n",
    "s_num1 = float(input('Enter Marks of English:\\n'))\n",
    "s_num2 = float(input('\\nEnter Marks of Persian:\\n'))\n",
    "s_num3 = float(input('\\nEnter Marks of Italian:\\n'))\n",
    "s_num4 = float(input('\\nEnter Marks of German:\\n'))\n",
    "s_num5 = float(input('\\nEnter Marks of Spanish:\\n'))\n",
    "\n",
    "total_marks = s_num1 +s_num2 +s_num3 +s_num4 +s_num5\n",
    "percentage = (total_marks/500)*100\n",
    "\n",
    "if (percentage > 79.99999999999999999999999999999999999999):\n",
    "    grade = 'A+'\n",
    "elif (percentage > 69.999999999999999999999999999999999999):\n",
    "    grade = 'A'\n",
    "elif (percentage > 59.999999999999999999999999999999999999):\n",
    "    grade = 'B'\n",
    "elif (percentage > 49.999999999999999999999999999999999999):\n",
    "    grade = 'C'\n",
    "elif (percentage > 39.999999999999999999999999999999999999):\n",
    "    grade = 'D'\n",
    "elif (percentage > 34.999999999999999999999999999999999999):\n",
    "    grade = 'E'\n",
    "else:\n",
    "    grade = 'F'\n",
    "\n",
    "print('\\n\\n \\t\\t   Mark Sheet \\n\\n')\n",
    "print('Subject \\t Total Marks \\t Obtained Marks\\n')\n",
    "print('English \\t 100 \\t\\t',s_num1)\n",
    "print('Persian \\t 100 \\t\\t',s_num2)\n",
    "print('Italian \\t 100 \\t\\t',s_num3)\n",
    "print('German  \\t 100 \\t\\t',s_num4)\n",
    "print('Spanish \\t 100 \\t\\t',s_num5,'\\n')\n",
    "print('Total   \\t 500 \\t\\t',total_marks,'\\n')\n",
    "print('\\t\\t Percentage\\t',percentage)\n",
    "print('\\t\\t Grade\\t\\t',grade)"
   ]
  },
  {
   "cell_type": "code",
   "execution_count": 29,
   "metadata": {},
   "outputs": [
    {
     "name": "stdout",
     "output_type": "stream",
     "text": [
      "Enter your desired integer:\n",
      "234567\n",
      "Your desired integer is Odd.\n"
     ]
    }
   ],
   "source": [
    "stored = int(input('Enter your desired integer:\\n'))\n",
    "remainder = stored % 2\n",
    "\n",
    "if remainder == 1:\n",
    "    print('Your desired integer is Odd.')\n",
    "else:\n",
    "    print('Your desired integer is Even.')"
   ]
  },
  {
   "cell_type": "code",
   "execution_count": 12,
   "metadata": {},
   "outputs": [
    {
     "name": "stdout",
     "output_type": "stream",
     "text": [
      "5\n"
     ]
    }
   ],
   "source": [
    "l = [1,2,3,4,5]\n",
    "\n",
    "len_of_list = len(l)\n",
    "\n",
    "print(len_of_list)"
   ]
  },
  {
   "cell_type": "code",
   "execution_count": 19,
   "metadata": {},
   "outputs": [
    {
     "name": "stdout",
     "output_type": "stream",
     "text": [
      "14\n"
     ]
    }
   ],
   "source": [
    "list=[2,3,4,5]\n",
    "total = sum(list)\n",
    "print(total)"
   ]
  },
  {
   "cell_type": "code",
   "execution_count": 15,
   "metadata": {},
   "outputs": [
    {
     "name": "stdout",
     "output_type": "stream",
     "text": [
      "21\n"
     ]
    }
   ],
   "source": [
    "l = [1,21,3,4,5]\n",
    "\n",
    "print(max(l))"
   ]
  },
  {
   "cell_type": "code",
   "execution_count": 25,
   "metadata": {},
   "outputs": [
    {
     "name": "stdout",
     "output_type": "stream",
     "text": [
      "[1, 1, 2, 3]\n"
     ]
    }
   ],
   "source": [
    "a = [1, 1, 2, 3, 5, 8, 13, 21, 34, 55, 89]\n",
    "\n",
    "\n",
    "b = []\n",
    "for i in range(len(a)):\n",
    "    if a[i] < 5:\n",
    "        b.append(a[i])\n",
    "\n",
    "print(b)"
   ]
  },
  {
   "cell_type": "code",
   "execution_count": null,
   "metadata": {},
   "outputs": [],
   "source": []
  }
 ],
 "metadata": {
  "kernelspec": {
   "display_name": "Python 3",
   "language": "python",
   "name": "python3"
  },
  "language_info": {
   "codemirror_mode": {
    "name": "ipython",
    "version": 3
   },
   "file_extension": ".py",
   "mimetype": "text/x-python",
   "name": "python",
   "nbconvert_exporter": "python",
   "pygments_lexer": "ipython3",
   "version": "3.7.3"
  }
 },
 "nbformat": 4,
 "nbformat_minor": 2
}
